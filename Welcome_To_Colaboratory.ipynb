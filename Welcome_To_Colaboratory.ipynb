{
  "nbformat": 4,
  "nbformat_minor": 0,
  "metadata": {
    "colab": {
      "name": "Welcome To Colaboratory",
      "provenance": [],
      "collapsed_sections": [],
      "include_colab_link": true
    },
    "kernelspec": {
      "display_name": "Python 3",
      "name": "python3"
    }
  },
  "cells": [
    {
      "cell_type": "markdown",
      "metadata": {
        "id": "view-in-github",
        "colab_type": "text"
      },
      "source": [
        "<a href=\"https://colab.research.google.com/github/DEsmondkele/machine_learning/blob/main/Welcome_To_Colaboratory.ipynb\" target=\"_parent\"><img src=\"https://colab.research.google.com/assets/colab-badge.svg\" alt=\"Open In Colab\"/></a>"
      ]
    },
    {
      "cell_type": "code",
      "metadata": {
        "id": "9zP5pRruk7uk",
        "outputId": "3991a090-f5ac-46b1-9712-db193641806e",
        "colab": {
          "base_uri": "https://localhost:8080/"
        }
      },
      "source": [
        "import tensorflow as tf\n",
        "import numpy as np\n",
        "import logging \n",
        "logger=tf.get_logger()\n",
        "logger.setLevel(logging.ERROR)\n",
        "\n",
        "celsius_vals=np.array([-40, -10, 0, 8, 15, 22, 18],dtype=float)\n",
        "fahrenheit_vals=np.array([-40, 14, 32, 46, 59, 72, 100], dtype=float)\n",
        "\n",
        "for index,value in enumerate(celsius_vals):\n",
        "  print(\"{} degrees Celsius is equal to {} degree Fahrenheit\".format(value, fahrenheit_vals[index])) \n",
        "\n"
      ],
      "execution_count": 14,
      "outputs": [
        {
          "output_type": "stream",
          "name": "stdout",
          "text": [
            "-40.0 degrees Celsius is equal to -40.0 degree Fahrenheit\n",
            "-10.0 degrees Celsius is equal to 14.0 degree Fahrenheit\n",
            "0.0 degrees Celsius is equal to 32.0 degree Fahrenheit\n",
            "8.0 degrees Celsius is equal to 46.0 degree Fahrenheit\n",
            "15.0 degrees Celsius is equal to 59.0 degree Fahrenheit\n",
            "22.0 degrees Celsius is equal to 72.0 degree Fahrenheit\n",
            "18.0 degrees Celsius is equal to 100.0 degree Fahrenheit\n"
          ]
        }
      ]
    },
    {
      "cell_type": "code",
      "metadata": {
        "id": "NB8UtlcGtyEH"
      },
      "source": [
        "#the dense layer\n",
        "layer_0 = tf.keras.layers.Dense(units=1, input_shape=[1])\n",
        "\n",
        "#sequential layer\n",
        "model= tf.keras.Sequential([layer_0])\n",
        "\n",
        "#compile the model\n",
        "model.compile(loss='mean_squared_error', optimizer = tf.keras.optimizers.Adam(0.1))"
      ],
      "execution_count": 26,
      "outputs": []
    },
    {
      "cell_type": "code",
      "metadata": {
        "id": "s41cykM1OZ2N",
        "outputId": "04814541-c7a0-4847-c495-1b6501a66a9f",
        "colab": {
          "base_uri": "https://localhost:8080/"
        }
      },
      "source": [
        "trained_model=model.fit(celsius_vals, fahrenheit_vals, epochs=5000, verbose=False)\n",
        "print(\"Finished training model\")"
      ],
      "execution_count": 27,
      "outputs": [
        {
          "output_type": "stream",
          "name": "stdout",
          "text": [
            "Finished training model\n"
          ]
        }
      ]
    },
    {
      "cell_type": "code",
      "metadata": {
        "id": "obU5PmYbRG3g",
        "outputId": "1163e86b-918b-40e5-971b-31fff3bb3997",
        "colab": {
          "base_uri": "https://localhost:8080/",
          "height": 307
        }
      },
      "source": [
        "import matplotlib.pyplot as plt\n",
        "plt.xlabel('Epoch Number')\n",
        "plt.ylabel('Loss magnitude')\n",
        "plt.plot(trained_model.history['loss'])"
      ],
      "execution_count": 25,
      "outputs": [
        {
          "output_type": "execute_result",
          "data": {
            "text/plain": [
              "[<matplotlib.lines.Line2D at 0x7f140936e4d0>]"
            ]
          },
          "metadata": {},
          "execution_count": 25
        },
        {
          "output_type": "display_data",
          "data": {
            "image/png": "[encoded data removed]",
            "text/plain": [
              "<Figure size 432x288 with 1 Axes>"
            ]
          },
          "metadata": {
            "needs_background": "light"
          }
        }
      ]
    },
    {
      "cell_type": "markdown",
      "metadata": {
        "id": "LPWceqlXXODe"
      },
      "source": [
        "Predicting values with our model"
      ]
    },
    {
      "cell_type": "code",
      "metadata": {
        "id": "kZlIWwpFXTjE",
        "outputId": "60ce9ad8-f31d-4489-b30f-903a99f38ea2",
        "colab": {
          "base_uri": "https://localhost:8080/"
        }
      },
      "source": [
        "print(model.predict([50]))"
      ],
      "execution_count": 28,
      "outputs": [
        {
          "output_type": "stream",
          "name": "stdout",
          "text": [
            "[[137.16074]]\n"
          ]
        }
      ]
    },
    {
      "cell_type": "code",
      "metadata": {
        "id": "Ifug4a-3cC2p"
      },
      "source": [
        "def get_circum(radius):\n",
        "   store=2*3.14*radius\n",
        "   return store\n",
        "\n",
        " "
      ],
      "execution_count": 38,
      "outputs": []
    },
    {
      "cell_type": "code",
      "metadata": {
        "id": "KgaOorcMepc-",
        "outputId": "1d10465b-b05a-436f-d79b-164d22c39998",
        "colab": {
          "base_uri": "https://localhost:8080/"
        }
      },
      "source": [
        " list=([12,13,14,15,16,10,11,15,16,9,20,24,23,2,3,7,18,19,21,28,33,17,5,31])\n",
        "for index,value in enumerate(list):\n",
        "  print(get_circum(value)) \n",
        "\n",
        "  "
      ],
      "execution_count": 48,
      "outputs": [
        {
          "output_type": "stream",
          "name": "stdout",
          "text": [
            "75.36\n",
            "81.64\n",
            "87.92\n",
            "94.2\n",
            "100.48\n",
            "62.800000000000004\n",
            "69.08\n",
            "94.2\n",
            "100.48\n",
            "56.52\n",
            "125.60000000000001\n",
            "150.72\n",
            "144.44\n",
            "12.56\n",
            "18.84\n",
            "43.96\n",
            "113.04\n",
            "119.32000000000001\n",
            "131.88\n",
            "175.84\n",
            "207.24\n",
            "106.76\n",
            "31.400000000000002\n",
            "194.68\n"
          ]
        }
      ]
    },
    {
      "cell_type": "code",
      "metadata": {
        "id": "k7odSMeKkJAG"
      },
      "source": [
        ""
      ],
      "execution_count": null,
      "outputs": []
    }
  ]
}