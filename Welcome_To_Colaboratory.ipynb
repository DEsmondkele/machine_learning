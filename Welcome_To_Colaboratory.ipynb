{
  "nbformat": 4,
  "nbformat_minor": 0,
  "metadata": {
    "colab": {
      "name": "Welcome To Colaboratory",
      "provenance": [],
      "collapsed_sections": [],
      "toc_visible": true,
      "include_colab_link": true
    },
    "kernelspec": {
      "display_name": "Python 3",
      "name": "python3"
    }
  },
  "cells": [
    {
      "cell_type": "markdown",
      "metadata": {
        "id": "view-in-github",
        "colab_type": "text"
      },
      "source": [
        "<a href=\"https://colab.research.google.com/github/DEsmondkele/machine_learning/blob/main/Welcome_To_Colaboratory.ipynb\" target=\"_parent\"><img src=\"https://colab.research.google.com/assets/colab-badge.svg\" alt=\"Open In Colab\"/></a>"
      ]
    },
    {
      "cell_type": "code",
      "metadata": {
        "id": "Q6cumf9dvouW",
        "outputId": "ae81afaa-8372-4287-8ae0-61dcf2ac6169",
        "colab": {
          "base_uri": "https://localhost:8080/"
        }
      },
      "source": [
        "import tensorflow as tf\n",
        "import numpy as np\n",
        "import logging\n",
        "logger=tf.get_logger()\n",
        "logger.setLevel(logging.ERROR)\n",
        "radius_vals=np.array([12,13,14,15,16,10,11,15,16,9,20,24,23,2,3,7,18,19,21,28,33,17,5,31],dtype=float)\n",
        "circum_vals=np.array([75.36,81.64,87.92,94.2,100.48,62.8,69.08,94.2,100.48,56.52,125.6,150.72,144.44,12.56,18.84,43.96,113.04,119.32,131.88,175.84,207.24,106.76,31.4,194.6],dtype=float)\n",
        "\n",
        "for index, value in enumerate(radius_vals):\n",
        "  print('{} radius is equal {} circumference'.format(value, circum_vals[index]))"
      ],
      "execution_count": 107,
      "outputs": [
        {
          "output_type": "stream",
          "name": "stdout",
          "text": [
            "12.0 radius is equal 75.36 circumference\n",
            "13.0 radius is equal 81.64 circumference\n",
            "14.0 radius is equal 87.92 circumference\n",
            "15.0 radius is equal 94.2 circumference\n",
            "16.0 radius is equal 100.48 circumference\n",
            "10.0 radius is equal 62.8 circumference\n",
            "11.0 radius is equal 69.08 circumference\n",
            "15.0 radius is equal 94.2 circumference\n",
            "16.0 radius is equal 100.48 circumference\n",
            "9.0 radius is equal 56.52 circumference\n",
            "20.0 radius is equal 125.6 circumference\n",
            "24.0 radius is equal 150.72 circumference\n",
            "23.0 radius is equal 144.44 circumference\n",
            "2.0 radius is equal 12.56 circumference\n",
            "3.0 radius is equal 18.84 circumference\n",
            "7.0 radius is equal 43.96 circumference\n",
            "18.0 radius is equal 113.04 circumference\n",
            "19.0 radius is equal 119.32 circumference\n",
            "21.0 radius is equal 131.88 circumference\n",
            "28.0 radius is equal 175.84 circumference\n",
            "33.0 radius is equal 207.24 circumference\n",
            "17.0 radius is equal 106.76 circumference\n",
            "5.0 radius is equal 31.4 circumference\n",
            "31.0 radius is equal 194.6 circumference\n"
          ]
        }
      ]
    },
    {
      "cell_type": "code",
      "metadata": {
        "id": "xc13nRLUzwx6"
      },
      "source": [
        "#Dense layer\n",
        "layer_0 = tf.keras.layers.Dense(units=1, input_shape = [1])\n",
        "\n",
        "#sequential layer\n",
        "model = tf.keras.Sequential([layer_0])\n",
        "\n",
        "#compile our model\n",
        "model.compile(loss='mean_squared_error', optimizer=tf.keras.optimizers.Adam(0.1))"
      ],
      "execution_count": 108,
      "outputs": []
    },
    {
      "cell_type": "code",
      "metadata": {
        "id": "JuwSS49e07Lt",
        "outputId": "2c71bb80-c0c2-4dfe-db21-8c27366f5f40",
        "colab": {
          "base_uri": "https://localhost:8080/"
        }
      },
      "source": [
        "trained_model = model.fit(radius_vals, circum_vals, epochs= 500, verbose=False)\n",
        "print(\"finished training model\")"
      ],
      "execution_count": 123,
      "outputs": [
        {
          "output_type": "stream",
          "name": "stdout",
          "text": [
            "finished training model\n"
          ]
        }
      ]
    },
    {
      "cell_type": "code",
      "metadata": {
        "id": "HA5xSpwc1ZW3",
        "outputId": "3db15424-f36a-4022-fe09-ea6061e4cd1e",
        "colab": {
          "base_uri": "https://localhost:8080/",
          "height": 296
        }
      },
      "source": [
        "import matplotlib.pyplot as plt\n",
        "plt.xlabel('Epoch NUmber')\n",
        "plt.ylabel('Loss Magnitude')\n",
        "plt.plot(trained_model.history['loss'])"
      ],
      "execution_count": 110,
      "outputs": [
        {
          "output_type": "execute_result",
          "data": {
            "text/plain": [
              "[<matplotlib.lines.Line2D at 0x7f14091c6ed0>]"
            ]
          },
          "metadata": {},
          "execution_count": 110
        },
        {
          "output_type": "display_data",
          "data": {
            "image/png": "[encoded data removed]",
            "text/plain": [
              "<Figure size 432x288 with 1 Axes>"
            ]
          },
          "metadata": {
            "needs_background": "light"
          }
        }
      ]
    },
    {
      "cell_type": "code",
      "metadata": {
        "id": "IaHaJdso15yn",
        "outputId": "dbae3504-79f0-4249-8038-337dfe3382f2",
        "colab": {
          "base_uri": "https://localhost:8080/"
        }
      },
      "source": [
        "print(model.predict([4,5,6]))"
      ],
      "execution_count": 124,
      "outputs": [
        {
          "output_type": "stream",
          "name": "stdout",
          "text": [
            "[[25.126057]\n",
            " [31.40527 ]\n",
            " [37.68448 ]]\n"
          ]
        }
      ]
    }
  ]
}